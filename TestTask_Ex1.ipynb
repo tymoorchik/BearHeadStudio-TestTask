{
  "nbformat": 4,
  "nbformat_minor": 0,
  "metadata": {
    "colab": {
      "provenance": []
    },
    "kernelspec": {
      "name": "python3",
      "display_name": "Python 3"
    },
    "language_info": {
      "name": "python"
    }
  },
  "cells": [
    {
      "cell_type": "markdown",
      "source": [
        "# Задача 1"
      ],
      "metadata": {
        "id": "6IgmMnmMlWLg"
      }
    },
    {
      "cell_type": "markdown",
      "source": [
        "### Условие и реализация"
      ],
      "metadata": {
        "id": "Fr7StNMml2ZC"
      }
    },
    {
      "cell_type": "markdown",
      "source": [
        "**Условие:**\n",
        "\n",
        "Дана строка s. Найдите длину самой длинной подстроки без повторяющихся символов"
      ],
      "metadata": {
        "id": "I9KUyHnplIZX"
      }
    },
    {
      "cell_type": "code",
      "execution_count": null,
      "metadata": {
        "id": "70XaTzyTksIk"
      },
      "outputs": [],
      "source": [
        "def lengthOfLongestSubstring_first(s: str) -> int:\n",
        "    mx = 0\n",
        "    cur_s = ''\n",
        "    for i in range(len(s)):\n",
        "        if s[i] not in cur_s:\n",
        "            cur_s += s[i]\n",
        "        else:\n",
        "            mx = max(mx, len(cur_s))\n",
        "            cur_s = (cur_s + s[i])[cur_s.find(s[i]) + 1:]\n",
        "    return max(mx, len(cur_s))"
      ]
    },
    {
      "cell_type": "code",
      "source": [
        "def lengthOfLongestSubstring_second(s: str) -> int:\n",
        "    mx = 0\n",
        "    alphabet = {}\n",
        "    start = 0\n",
        "    for i in range(len(s)):\n",
        "        start = max(alphabet.get(s[i], 0), start)\n",
        "        mx = max(mx, i - start + 1)\n",
        "        alphabet[s[i]] = i + 1\n",
        "    return mx"
      ],
      "metadata": {
        "id": "cq6MvoScm-3J"
      },
      "execution_count": null,
      "outputs": []
    },
    {
      "cell_type": "markdown",
      "source": [
        "### Тесты"
      ],
      "metadata": {
        "id": "SqFjEhLuaCUF"
      }
    },
    {
      "cell_type": "code",
      "source": [
        "test_1 = 'abcabcbb' #БАЗОВЫЙ ТЕСТ (ОТВЕТ 3)\n",
        "test_2 = 'bbbbb'    #ТЕСТ НА ОДНОРОДНОЙ СТРОКЕ (ОТВЕТ 1)\n",
        "test_3 = ''         #ТЕСТ НА ПУСТОЙ СТРОКЕ (ОТВЕТ 0)\n",
        "test_4 = 'abcde'    #ТЕСТ НА СТРОКЕ ИЗ РАЗНЫХ БУКВ (ОТВЕТ 5)\n",
        "test_5 = ' '        #СТРОКА ИЗ ОДНОГО ПРОБЕЛА (ОТВЕТ 1)\n",
        "\n",
        "tests = [test_1, test_2, test_3, test_4, test_5]"
      ],
      "metadata": {
        "id": "d2Qy1qzKaGFP"
      },
      "execution_count": null,
      "outputs": []
    },
    {
      "cell_type": "code",
      "source": [
        "for i in range(10):\n",
        "    if i < 5:\n",
        "      print(f'Тест {i % 5 + 1}: {lengthOfLongestSubstring_first(tests[i % 5])}')\n",
        "    else:\n",
        "      print(f'Тест {i % 5 + 1}: {lengthOfLongestSubstring_second(tests[i % 5])}')"
      ],
      "metadata": {
        "colab": {
          "base_uri": "https://localhost:8080/"
        },
        "id": "53IZLwPXnKgp",
        "outputId": "d1225d09-6283-4ca1-df30-e7faa5f5908a"
      },
      "execution_count": null,
      "outputs": [
        {
          "output_type": "stream",
          "name": "stdout",
          "text": [
            "Тест 1: 3\n",
            "Тест 2: 1\n",
            "Тест 3: 0\n",
            "Тест 4: 5\n",
            "Тест 5: 1\n",
            "Тест 1: 3\n",
            "Тест 2: 1\n",
            "Тест 3: 0\n",
            "Тест 4: 5\n",
            "Тест 5: 1\n"
          ]
        }
      ]
    },
    {
      "cell_type": "markdown",
      "source": [
        "### Пояснение решения и оценка сложности по времени и памяти"
      ],
      "metadata": {
        "id": "RQc22eX6l72c"
      }
    },
    {
      "cell_type": "markdown",
      "source": [
        "1) Двигаясь по строке собираем подстроку из уникальных элементов. Если в строке встречается элемент, который уже есть в подстроке, то добавляем его в конец строки, но саму подстроку обрезаем спереди до данного символа (таким образом получая опять строку из уникальных элементов). При этом проверяем, а не была ли данная подстрока уже максимальной. В конце возвращаем максимум из имеющейся на данный момент подстроки и найденным до этого максимумом. Сложость алгоритма O(n) по времени и O(n) по памяти (нужно хранить строку)\n",
        "\n",
        "2) Создаем словарь, в котором будем хранить последний иднекс каждого элемента, проходимся по строке, для каждого элемента находя старт максимумом из уже имеющегося старта и номером индекса из словаря (если в словаре еще нет этого элемента, то просто возвращается 0). Так, при появлении повторного элемента, мы стразу прыгнем на него. Далее просто на каждом шаге обновляем таргет (искомый максимум). Сложность алгоритма O(n) по времени и O(1) по памяти (т.к. по логике словарь всегда размером не больше 256).\n",
        "\n",
        "Как ни странно, на LeetCode первый алгоритм быстрее"
      ],
      "metadata": {
        "id": "dsWYVx7qmRPP"
      }
    },
    {
      "cell_type": "markdown",
      "source": [
        "# Задача 2"
      ],
      "metadata": {
        "id": "V0ZI8lXjs8Jo"
      }
    },
    {
      "cell_type": "markdown",
      "source": [
        "### Условие и реализация"
      ],
      "metadata": {
        "id": "EfI7Sd6VtBuU"
      }
    },
    {
      "cell_type": "markdown",
      "source": [
        "**Условие:**\n",
        "Вы поднимаетесь по лестнице. Чтобы добраться до самого верха, вам необходимо пройти n ступеней. Каждый раз, вы можете подняться либо на 1 ступеньку, либо на 2. Как много различных способов подняться на самый верх у вас есть?"
      ],
      "metadata": {
        "id": "N5H3zuJntEN0"
      }
    },
    {
      "cell_type": "markdown",
      "source": [
        "**Пояснение:**\n",
        "Задача является классической задачей на поиск n-го числа Фиббоначи. Для ускорения работы алгоритма предлагается использоваться формулой Бине, которая основана на числе Фиббоначи:\n",
        "$$F_{n}=\\frac{(\\frac{1+\\sqrt{5}}{2})^{n} - (\\frac{1-\\sqrt{5}}{2})^{n}}{\\sqrt{5}}=\\frac{ϕ^{n} - (ϕ^{-1})^{n}}{\\sqrt{5}}$$\n",
        "Либо же мы можем прописать функцию поиска числа Фиббоначи матричным способом:\n",
        "$$\\begin{bmatrix}{F(n) \\\\ F(n - 1)}\\end{bmatrix} = \\begin{bmatrix}{1 \\ 1 \\\\ 1 \\ 0}\\end{bmatrix} \\begin{bmatrix}{F(n - 1) \\\\ F(n - 2)}\\end{bmatrix}$$\n",
        "Или же:\n",
        "$$\\begin{bmatrix}{F(n) \\\\ F(n - 1)}\\end{bmatrix} = \\begin{bmatrix}{1 \\ 1 \\\\ 1 \\ 0}\\end{bmatrix}^{n} \\begin{bmatrix}{1 \\\\ 0}\\end{bmatrix}$$\n",
        "В конкретно нашей задаче нужно искать n+1 число Фиббоначи."
      ],
      "metadata": {
        "id": "O4pF1hNwtQw3"
      }
    },
    {
      "cell_type": "code",
      "source": [
        "def fib_first(n: int) -> int:\n",
        "    if not n:\n",
        "      return n\n",
        "    n = n + 1\n",
        "    return int((((1 + 5 ** 0.5) / 2) ** n - ((1 - 5 ** 0.5) / 2) ** n) / (5 ** 0.5))"
      ],
      "metadata": {
        "id": "6YaZjkHtlxYe"
      },
      "execution_count": null,
      "outputs": []
    },
    {
      "cell_type": "code",
      "source": [
        "import numpy as np\n",
        "\n",
        "def fib_second(n: int) -> int:\n",
        "    if not n:\n",
        "      return n\n",
        "    matrix = np.linalg.matrix_power(np.array([[1, 1],\n",
        "                                              [1, 0]]), n)\n",
        "\n",
        "    return matrix.dot(np.array([[1],\n",
        "                                [0]]))[0, 0]"
      ],
      "metadata": {
        "id": "cUQc8-vdxlWN"
      },
      "execution_count": null,
      "outputs": []
    },
    {
      "cell_type": "markdown",
      "source": [
        "### Тесты"
      ],
      "metadata": {
        "id": "uuLPNYb2urPo"
      }
    },
    {
      "cell_type": "code",
      "source": [
        "test_1 = 3   #ТЕСТ ИЗ ПРИМЕРА (ОТВЕТ 3)\n",
        "test_2 = 1   #ПОГРАНИЧНЫЙ ТЕСТ (ОТВЕТ 1)\n",
        "test_3 = 90  #СЛОЖНЫЙ ДЛЯ РЕКУРСИИ ТЕСТ (ОТВЕТ 4660046610375530309)\n",
        "test_4 = 10  #ОБЫЧНЫЙ ТЕСТ (ОТВЕТ 89)\n",
        "test_5 = 0   #ОСТУТСВИЕ ШАГОВ (ОТВЕТ 1)\n",
        "\n",
        "tests = [test_1, test_2, test_3, test_4, test_5]"
      ],
      "metadata": {
        "id": "Bosn75Enuo_0"
      },
      "execution_count": null,
      "outputs": []
    },
    {
      "cell_type": "code",
      "source": [
        "for i in range(10):\n",
        "    if i < 5:\n",
        "      print(f'Тест {i % 5 + 1}: {fib_first(tests[i % 5])}')\n",
        "    else:\n",
        "      print(f'Тест {i % 5 + 1}: {fib_second(tests[i % 5])}')"
      ],
      "metadata": {
        "colab": {
          "base_uri": "https://localhost:8080/"
        },
        "id": "V3VEwkpVzJY4",
        "outputId": "d01e78b6-e496-467c-bc11-4c7a039d6426"
      },
      "execution_count": null,
      "outputs": [
        {
          "output_type": "stream",
          "name": "stdout",
          "text": [
            "Тест 1: 3\n",
            "Тест 2: 1\n",
            "Тест 3: 4660046610375544832\n",
            "Тест 4: 89\n",
            "Тест 5: 0\n",
            "Тест 1: 3\n",
            "Тест 2: 1\n",
            "Тест 3: 4660046610375530309\n",
            "Тест 4: 89\n",
            "Тест 5: 0\n"
          ]
        }
      ]
    },
    {
      "cell_type": "markdown",
      "source": [
        "Все классно, но на больших числах возникает проблема с неточностью чисел в первом алгоритме"
      ],
      "metadata": {
        "id": "BYUtERTX0FkB"
      }
    },
    {
      "cell_type": "markdown",
      "source": [
        "### Пояснение решения и оценка сложности по времени и памяти"
      ],
      "metadata": {
        "id": "k1Mr2-r92hNz"
      }
    },
    {
      "cell_type": "markdown",
      "source": [
        "1) Как сказано выше, пользуемся формулой Бине. Если пользоваться быстрым возведением в степень, то сложность по времени O(log2(n)), по памяти O(1)\n",
        "\n",
        "2) Матричный метод, сложность примерно по времени O(log2(n)), по памяти O(1)"
      ],
      "metadata": {
        "id": "VBTtOZXN0QUJ"
      }
    }
  ]
}