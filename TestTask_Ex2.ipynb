{
  "nbformat": 4,
  "nbformat_minor": 0,
  "metadata": {
    "colab": {
      "provenance": [],
      "collapsed_sections": [
        "HoudJvI_rv_8"
      ]
    },
    "kernelspec": {
      "name": "python3",
      "display_name": "Python 3"
    },
    "language_info": {
      "name": "python"
    }
  },
  "cells": [
    {
      "cell_type": "markdown",
      "source": [
        "# Исходный код"
      ],
      "metadata": {
        "id": "HoudJvI_rv_8"
      }
    },
    {
      "cell_type": "code",
      "source": [
        "!pip install torchviz\n",
        "\n",
        "#устанавливаем torchviz. Ошибок нет"
      ],
      "metadata": {
        "id": "qj_nTH23qYWf",
        "colab": {
          "base_uri": "https://localhost:8080/"
        },
        "outputId": "a88c97e0-cac8-4d09-cf11-45cf26f656d3"
      },
      "execution_count": 3,
      "outputs": [
        {
          "output_type": "stream",
          "name": "stdout",
          "text": [
            "Collecting torchviz\n",
            "  Downloading torchviz-0.0.2.tar.gz (4.9 kB)\n",
            "  Preparing metadata (setup.py) ... \u001b[?25l\u001b[?25hdone\n",
            "Requirement already satisfied: torch in /usr/local/lib/python3.10/dist-packages (from torchviz) (2.4.1+cu121)\n",
            "Requirement already satisfied: graphviz in /usr/local/lib/python3.10/dist-packages (from torchviz) (0.20.3)\n",
            "Requirement already satisfied: filelock in /usr/local/lib/python3.10/dist-packages (from torch->torchviz) (3.16.1)\n",
            "Requirement already satisfied: typing-extensions>=4.8.0 in /usr/local/lib/python3.10/dist-packages (from torch->torchviz) (4.12.2)\n",
            "Requirement already satisfied: sympy in /usr/local/lib/python3.10/dist-packages (from torch->torchviz) (1.13.3)\n",
            "Requirement already satisfied: networkx in /usr/local/lib/python3.10/dist-packages (from torch->torchviz) (3.3)\n",
            "Requirement already satisfied: jinja2 in /usr/local/lib/python3.10/dist-packages (from torch->torchviz) (3.1.4)\n",
            "Requirement already satisfied: fsspec in /usr/local/lib/python3.10/dist-packages (from torch->torchviz) (2024.6.1)\n",
            "Requirement already satisfied: MarkupSafe>=2.0 in /usr/local/lib/python3.10/dist-packages (from jinja2->torch->torchviz) (2.1.5)\n",
            "Requirement already satisfied: mpmath<1.4,>=1.1.0 in /usr/local/lib/python3.10/dist-packages (from sympy->torch->torchviz) (1.3.0)\n",
            "Building wheels for collected packages: torchviz\n",
            "  Building wheel for torchviz (setup.py) ... \u001b[?25l\u001b[?25hdone\n",
            "  Created wheel for torchviz: filename=torchviz-0.0.2-py3-none-any.whl size=4132 sha256=dbb21cc716c0e151ab2fb731d2de5cfb4037ebaa9b260424ce3ee2f99a915261\n",
            "  Stored in directory: /root/.cache/pip/wheels/4c/97/88/a02973217949e0db0c9f4346d154085f4725f99c4f15a87094\n",
            "Successfully built torchviz\n",
            "Installing collected packages: torchviz\n",
            "Successfully installed torchviz-0.0.2\n"
          ]
        }
      ]
    },
    {
      "cell_type": "code",
      "source": [
        "import torch\n",
        "import torch.nn as nn\n",
        "from torch.utils.data import DataLoader, Dataset\n",
        "import torchvision\n",
        "import numpy as np\n",
        "from sklearn.model_selection import train_test_split\n",
        "import torchvision.transforms as transforms\n",
        "from tqdm import tqdm\n",
        "from torchviz import make_dot\n",
        "import matplotlib.pyplot as plt\n",
        "\n",
        "#Устанавливаем требуемые библиотеки. Ошибок нет"
      ],
      "metadata": {
        "id": "cGbI46RX78DE"
      },
      "execution_count": 4,
      "outputs": []
    },
    {
      "cell_type": "code",
      "source": [
        "transform = transforms.ToTensor()\n",
        "train_dataset = torchvision.datasets.FashionMNIST(root='./data', train=True, download=True, transform=transform)\n",
        "test_dataset = torchvision.datasets.FashionMNIST(root = \"./data\", train = False, download=True, transform=transform)\n",
        "\n",
        "#Создаем Callable объект transform, далее загружаем два датасета (train и test).\n",
        "#При загрузке датасета из torchvision используем параметры: root='./data' - папка,\n",
        "#куда будут загружены датасеты, параметр train=True или False, которые отвечают за\n",
        "#то, будет ли это тренировочным датасетом или тестовым, параметр download=True,\n",
        "#отвечающий за загрузку датасетов из интерента, если их нет в папке и параметр\n",
        "#transform=transform, который преобразует изображения из датасета в тензор (хотя)\n",
        "#можно было напрямую передать в параметр transforms.ToTensor. Уже по датасету\n",
        "#понятно, что мы будем работать с изображениями. Ошибок нет"
      ],
      "metadata": {
        "id": "j8ZArIEV8U58"
      },
      "execution_count": 9,
      "outputs": []
    },
    {
      "cell_type": "code",
      "source": [
        "batch_size = 64\n",
        "train_loader = DataLoader(train_dataset, batch_size=batch_size, shuffle=False)\n",
        "test_loader = DataLoader(test_dataset, batch_size=batch_size, shuffle=False)\n",
        "\n",
        "#Создаются объекты DataLoader, с разделением на батчи по 64 штуки. Тут\n",
        "#можно заметить первую серъезную проблему - shuffle=False. В датасете\n",
        "#FashionMNIST классы расположены последовательно, поэтому передавать в будущую\n",
        "#нейронную сеть батчи без перемешивания неправильно. Ошибка есть"
      ],
      "metadata": {
        "id": "nabOH-LS79ij"
      },
      "execution_count": 10,
      "outputs": []
    },
    {
      "cell_type": "code",
      "source": [
        "train_item = next(iter(train_loader))\n",
        "test_item = next(iter(test_loader))\n",
        "len(train_item), len(test_item), train_item[0].shape, train_item[1].shape\n",
        "\n",
        "#Здесь мы хотим удостовериться, что dataloader'ы созданы верно. Для этого\n",
        "#мы создаем для них итераторы и берем первый элемент (то есть первый батч).\n",
        "#Далее выводятся длины item'ов, они верные, длина равна 2, так как в элементе\n",
        "#лежит батч и метки к нему. Если рассмотреть оба элемента \"вблизи\", то увидим\n",
        "#что там лежит тензор размерами 64 (элементов в батче) на 1 (кол-во каналов) на\n",
        "#28 (высота изображения) на 28 (длина изображения) и тензор меток. Ошибок нет"
      ],
      "metadata": {
        "colab": {
          "base_uri": "https://localhost:8080/"
        },
        "id": "6lNf98Dr-Wpi",
        "outputId": "57469832-b558-49e6-9e2d-f42101cb657c"
      },
      "execution_count": 5,
      "outputs": [
        {
          "output_type": "execute_result",
          "data": {
            "text/plain": [
              "(2, 2, torch.Size([64, 1, 28, 28]), torch.Size([64]))"
            ]
          },
          "metadata": {},
          "execution_count": 5
        }
      ]
    },
    {
      "cell_type": "code",
      "source": [
        "class NNModel(nn.Module):\n",
        "    def __init__(self,\n",
        "                 layers_size = [49, 32, 16, 10],\n",
        "                 dropout_prob = 1.0\n",
        "                 ):\n",
        "        super().__init__()\n",
        "        self.conv = nn.Conv2d(1, 1, kernel_size = 1, stride = 1)\n",
        "        self.layers = [nn.Linear(layers_size[i], layers_size[i+1]) for i in range(len(layers_size)-1)]\n",
        "        self.norm = [nn.BatchNorm1d(inp_size, affine = False) for inp_size in layers_size[1:-1]]\n",
        "        self.relu = nn.ReLU()\n",
        "        self.dropout = nn.Dropout(p=dropout_prob)\n",
        "\n",
        "    def forward(self, batch):\n",
        "        bs = batch.shape[0]\n",
        "        batch = self.conv(batch).reshape(bs, -1)\n",
        "\n",
        "        for i, layer in enumerate(self.layers):\n",
        "            if i < len(self.layers) -1:\n",
        "                batch = self.dropout(self.relu(self.norm[i](layer(batch))))\n",
        "            else:\n",
        "                batch = layer(batch)\n",
        "        return batch\n",
        "\n",
        "    def print_net(self):\n",
        "        print(self.conv)\n",
        "        for i, layer in enumerate(self.layers):\n",
        "            if i < len(self.layers) - 1:\n",
        "                print(layer)\n",
        "                print(self.norm[i])\n",
        "                print(self.relu)\n",
        "                print(self.dropout)\n",
        "            else:\n",
        "                print(layer)\n",
        "\n",
        "        return\n",
        "\n",
        "#В этом блоке мы создаем класс для реализации сверточной нейронной сети. В первую\n",
        "#очередь мы реализуем конструктор класса, где сразу вызываем конструктор родительского\n",
        "#класса. Далее применяется nn.Conv2d, который создаст первый слой нашей модели, но\n",
        "#его настройки таковы, что вообще не меняют изображение, то есть фактически он не\n",
        "#имеет смысла. Кроме того создается набор линейных слоев и к ним слои нормализации,\n",
        "#а также объект ReLU и Dropout для повышения эффективности. Проблема здесь в списках,\n",
        "#если мы в дальнейшем будем обучать модель, то параметры внутри слоев не будут меняться,\n",
        "#а значит обучения по сути то и не будет. Нужно обернуть все в nn.ModuleList. Ошибка есть\n",
        "\n",
        "#Далее реализуется метод forward. В нем мы работаем с отдельными батчами. Берем их\n",
        "#размер (64) и применям к нему наш бессмысленный слой Conv2d, затем возвращяя тензор\n",
        "#к нужной нам форме. Затем производится проход по сети. Ошибок нет\n",
        "\n",
        "#С принтом все хорошо. Ошибок нет"
      ],
      "metadata": {
        "id": "Wv21tbtXmEbW"
      },
      "execution_count": 6,
      "outputs": []
    },
    {
      "cell_type": "code",
      "source": [
        "mlp  = NNModel(dropout_prob = 0.1)\n",
        "\n",
        "mlp.print_net()\n",
        "\n",
        "#Все хорошо, но очевидно размеры входных слоев не подойдут. Надо, чтобы\n",
        "#первый Linear был с 784 входами. Есть ошибка"
      ],
      "metadata": {
        "colab": {
          "base_uri": "https://localhost:8080/"
        },
        "id": "sD36MPJlp7m-",
        "outputId": "2bc772df-30b1-47c7-f9c6-ff6323702205"
      },
      "execution_count": 7,
      "outputs": [
        {
          "output_type": "stream",
          "name": "stdout",
          "text": [
            "Conv2d(1, 1, kernel_size=(1, 1), stride=(1, 1))\n",
            "Linear(in_features=49, out_features=32, bias=True)\n",
            "BatchNorm1d(32, eps=1e-05, momentum=0.1, affine=False, track_running_stats=True)\n",
            "ReLU()\n",
            "Dropout(p=0.1, inplace=False)\n",
            "Linear(in_features=32, out_features=16, bias=True)\n",
            "BatchNorm1d(16, eps=1e-05, momentum=0.1, affine=False, track_running_stats=True)\n",
            "ReLU()\n",
            "Dropout(p=0.1, inplace=False)\n",
            "Linear(in_features=16, out_features=10, bias=True)\n"
          ]
        }
      ]
    },
    {
      "cell_type": "code",
      "execution_count": 8,
      "metadata": {
        "id": "VtgLUBij7FGM",
        "colab": {
          "base_uri": "https://localhost:8080/",
          "height": 372
        },
        "outputId": "7557544f-0d4b-4cb6-950a-5260af223ec9"
      },
      "outputs": [
        {
          "output_type": "error",
          "ename": "RuntimeError",
          "evalue": "mat1 and mat2 shapes cannot be multiplied (64x784 and 49x32)",
          "traceback": [
            "\u001b[0;31m---------------------------------------------------------------------------\u001b[0m",
            "\u001b[0;31mRuntimeError\u001b[0m                              Traceback (most recent call last)",
            "\u001b[0;32m<ipython-input-8-e330f2d0dea3>\u001b[0m in \u001b[0;36m<cell line: 9>\u001b[0;34m()\u001b[0m\n\u001b[1;32m     18\u001b[0m         \u001b[0mimages\u001b[0m\u001b[0;34m,\u001b[0m \u001b[0mlabels\u001b[0m \u001b[0;34m=\u001b[0m \u001b[0mbatch\u001b[0m\u001b[0;34m\u001b[0m\u001b[0;34m\u001b[0m\u001b[0m\n\u001b[1;32m     19\u001b[0m         \u001b[0mimages\u001b[0m\u001b[0;34m,\u001b[0m \u001b[0mlabels\u001b[0m \u001b[0;34m=\u001b[0m \u001b[0mimages\u001b[0m\u001b[0;34m.\u001b[0m\u001b[0mfloat\u001b[0m\u001b[0;34m(\u001b[0m\u001b[0;34m)\u001b[0m\u001b[0;34m,\u001b[0m \u001b[0mlabels\u001b[0m\u001b[0;34m.\u001b[0m\u001b[0mlong\u001b[0m\u001b[0;34m(\u001b[0m\u001b[0;34m)\u001b[0m\u001b[0;34m\u001b[0m\u001b[0;34m\u001b[0m\u001b[0m\n\u001b[0;32m---> 20\u001b[0;31m         \u001b[0mpredictions\u001b[0m \u001b[0;34m=\u001b[0m \u001b[0mmlp\u001b[0m\u001b[0;34m(\u001b[0m\u001b[0mimages\u001b[0m\u001b[0;34m)\u001b[0m\u001b[0;34m\u001b[0m\u001b[0;34m\u001b[0m\u001b[0m\n\u001b[0m\u001b[1;32m     21\u001b[0m         \u001b[0mloss\u001b[0m \u001b[0;34m=\u001b[0m \u001b[0mce_loss\u001b[0m\u001b[0;34m(\u001b[0m\u001b[0mpredictions\u001b[0m\u001b[0;34m,\u001b[0m \u001b[0mlabels\u001b[0m\u001b[0;34m)\u001b[0m\u001b[0;34m\u001b[0m\u001b[0;34m\u001b[0m\u001b[0m\n\u001b[1;32m     22\u001b[0m         \u001b[0mloss\u001b[0m\u001b[0;34m.\u001b[0m\u001b[0mbackward\u001b[0m\u001b[0;34m(\u001b[0m\u001b[0;34m)\u001b[0m\u001b[0;34m\u001b[0m\u001b[0;34m\u001b[0m\u001b[0m\n",
            "\u001b[0;32m/usr/local/lib/python3.10/dist-packages/torch/nn/modules/module.py\u001b[0m in \u001b[0;36m_wrapped_call_impl\u001b[0;34m(self, *args, **kwargs)\u001b[0m\n\u001b[1;32m   1551\u001b[0m             \u001b[0;32mreturn\u001b[0m \u001b[0mself\u001b[0m\u001b[0;34m.\u001b[0m\u001b[0m_compiled_call_impl\u001b[0m\u001b[0;34m(\u001b[0m\u001b[0;34m*\u001b[0m\u001b[0margs\u001b[0m\u001b[0;34m,\u001b[0m \u001b[0;34m**\u001b[0m\u001b[0mkwargs\u001b[0m\u001b[0;34m)\u001b[0m  \u001b[0;31m# type: ignore[misc]\u001b[0m\u001b[0;34m\u001b[0m\u001b[0;34m\u001b[0m\u001b[0m\n\u001b[1;32m   1552\u001b[0m         \u001b[0;32melse\u001b[0m\u001b[0;34m:\u001b[0m\u001b[0;34m\u001b[0m\u001b[0;34m\u001b[0m\u001b[0m\n\u001b[0;32m-> 1553\u001b[0;31m             \u001b[0;32mreturn\u001b[0m \u001b[0mself\u001b[0m\u001b[0;34m.\u001b[0m\u001b[0m_call_impl\u001b[0m\u001b[0;34m(\u001b[0m\u001b[0;34m*\u001b[0m\u001b[0margs\u001b[0m\u001b[0;34m,\u001b[0m \u001b[0;34m**\u001b[0m\u001b[0mkwargs\u001b[0m\u001b[0;34m)\u001b[0m\u001b[0;34m\u001b[0m\u001b[0;34m\u001b[0m\u001b[0m\n\u001b[0m\u001b[1;32m   1554\u001b[0m \u001b[0;34m\u001b[0m\u001b[0m\n\u001b[1;32m   1555\u001b[0m     \u001b[0;32mdef\u001b[0m \u001b[0m_call_impl\u001b[0m\u001b[0;34m(\u001b[0m\u001b[0mself\u001b[0m\u001b[0;34m,\u001b[0m \u001b[0;34m*\u001b[0m\u001b[0margs\u001b[0m\u001b[0;34m,\u001b[0m \u001b[0;34m**\u001b[0m\u001b[0mkwargs\u001b[0m\u001b[0;34m)\u001b[0m\u001b[0;34m:\u001b[0m\u001b[0;34m\u001b[0m\u001b[0;34m\u001b[0m\u001b[0m\n",
            "\u001b[0;32m/usr/local/lib/python3.10/dist-packages/torch/nn/modules/module.py\u001b[0m in \u001b[0;36m_call_impl\u001b[0;34m(self, *args, **kwargs)\u001b[0m\n\u001b[1;32m   1560\u001b[0m                 \u001b[0;32mor\u001b[0m \u001b[0m_global_backward_pre_hooks\u001b[0m \u001b[0;32mor\u001b[0m \u001b[0m_global_backward_hooks\u001b[0m\u001b[0;34m\u001b[0m\u001b[0;34m\u001b[0m\u001b[0m\n\u001b[1;32m   1561\u001b[0m                 or _global_forward_hooks or _global_forward_pre_hooks):\n\u001b[0;32m-> 1562\u001b[0;31m             \u001b[0;32mreturn\u001b[0m \u001b[0mforward_call\u001b[0m\u001b[0;34m(\u001b[0m\u001b[0;34m*\u001b[0m\u001b[0margs\u001b[0m\u001b[0;34m,\u001b[0m \u001b[0;34m**\u001b[0m\u001b[0mkwargs\u001b[0m\u001b[0;34m)\u001b[0m\u001b[0;34m\u001b[0m\u001b[0;34m\u001b[0m\u001b[0m\n\u001b[0m\u001b[1;32m   1563\u001b[0m \u001b[0;34m\u001b[0m\u001b[0m\n\u001b[1;32m   1564\u001b[0m         \u001b[0;32mtry\u001b[0m\u001b[0;34m:\u001b[0m\u001b[0;34m\u001b[0m\u001b[0;34m\u001b[0m\u001b[0m\n",
            "\u001b[0;32m<ipython-input-6-607bd7850d71>\u001b[0m in \u001b[0;36mforward\u001b[0;34m(self, batch)\u001b[0m\n\u001b[1;32m     19\u001b[0m         \u001b[0;32mfor\u001b[0m \u001b[0mi\u001b[0m\u001b[0;34m,\u001b[0m \u001b[0mlayer\u001b[0m \u001b[0;32min\u001b[0m \u001b[0menumerate\u001b[0m\u001b[0;34m(\u001b[0m\u001b[0mself\u001b[0m\u001b[0;34m.\u001b[0m\u001b[0mlayers\u001b[0m\u001b[0;34m)\u001b[0m\u001b[0;34m:\u001b[0m\u001b[0;34m\u001b[0m\u001b[0;34m\u001b[0m\u001b[0m\n\u001b[1;32m     20\u001b[0m             \u001b[0;32mif\u001b[0m \u001b[0mi\u001b[0m \u001b[0;34m<\u001b[0m \u001b[0mlen\u001b[0m\u001b[0;34m(\u001b[0m\u001b[0mself\u001b[0m\u001b[0;34m.\u001b[0m\u001b[0mlayers\u001b[0m\u001b[0;34m)\u001b[0m \u001b[0;34m-\u001b[0m\u001b[0;36m1\u001b[0m\u001b[0;34m:\u001b[0m\u001b[0;34m\u001b[0m\u001b[0;34m\u001b[0m\u001b[0m\n\u001b[0;32m---> 21\u001b[0;31m                 \u001b[0mbatch\u001b[0m \u001b[0;34m=\u001b[0m \u001b[0mself\u001b[0m\u001b[0;34m.\u001b[0m\u001b[0mdropout\u001b[0m\u001b[0;34m(\u001b[0m\u001b[0mself\u001b[0m\u001b[0;34m.\u001b[0m\u001b[0mrelu\u001b[0m\u001b[0;34m(\u001b[0m\u001b[0mself\u001b[0m\u001b[0;34m.\u001b[0m\u001b[0mnorm\u001b[0m\u001b[0;34m[\u001b[0m\u001b[0mi\u001b[0m\u001b[0;34m]\u001b[0m\u001b[0;34m(\u001b[0m\u001b[0mlayer\u001b[0m\u001b[0;34m(\u001b[0m\u001b[0mbatch\u001b[0m\u001b[0;34m)\u001b[0m\u001b[0;34m)\u001b[0m\u001b[0;34m)\u001b[0m\u001b[0;34m)\u001b[0m\u001b[0;34m\u001b[0m\u001b[0;34m\u001b[0m\u001b[0m\n\u001b[0m\u001b[1;32m     22\u001b[0m             \u001b[0;32melse\u001b[0m\u001b[0;34m:\u001b[0m\u001b[0;34m\u001b[0m\u001b[0;34m\u001b[0m\u001b[0m\n\u001b[1;32m     23\u001b[0m                 \u001b[0mbatch\u001b[0m \u001b[0;34m=\u001b[0m \u001b[0mlayer\u001b[0m\u001b[0;34m(\u001b[0m\u001b[0mbatch\u001b[0m\u001b[0;34m)\u001b[0m\u001b[0;34m\u001b[0m\u001b[0;34m\u001b[0m\u001b[0m\n",
            "\u001b[0;32m/usr/local/lib/python3.10/dist-packages/torch/nn/modules/module.py\u001b[0m in \u001b[0;36m_wrapped_call_impl\u001b[0;34m(self, *args, **kwargs)\u001b[0m\n\u001b[1;32m   1551\u001b[0m             \u001b[0;32mreturn\u001b[0m \u001b[0mself\u001b[0m\u001b[0;34m.\u001b[0m\u001b[0m_compiled_call_impl\u001b[0m\u001b[0;34m(\u001b[0m\u001b[0;34m*\u001b[0m\u001b[0margs\u001b[0m\u001b[0;34m,\u001b[0m \u001b[0;34m**\u001b[0m\u001b[0mkwargs\u001b[0m\u001b[0;34m)\u001b[0m  \u001b[0;31m# type: ignore[misc]\u001b[0m\u001b[0;34m\u001b[0m\u001b[0;34m\u001b[0m\u001b[0m\n\u001b[1;32m   1552\u001b[0m         \u001b[0;32melse\u001b[0m\u001b[0;34m:\u001b[0m\u001b[0;34m\u001b[0m\u001b[0;34m\u001b[0m\u001b[0m\n\u001b[0;32m-> 1553\u001b[0;31m             \u001b[0;32mreturn\u001b[0m \u001b[0mself\u001b[0m\u001b[0;34m.\u001b[0m\u001b[0m_call_impl\u001b[0m\u001b[0;34m(\u001b[0m\u001b[0;34m*\u001b[0m\u001b[0margs\u001b[0m\u001b[0;34m,\u001b[0m \u001b[0;34m**\u001b[0m\u001b[0mkwargs\u001b[0m\u001b[0;34m)\u001b[0m\u001b[0;34m\u001b[0m\u001b[0;34m\u001b[0m\u001b[0m\n\u001b[0m\u001b[1;32m   1554\u001b[0m \u001b[0;34m\u001b[0m\u001b[0m\n\u001b[1;32m   1555\u001b[0m     \u001b[0;32mdef\u001b[0m \u001b[0m_call_impl\u001b[0m\u001b[0;34m(\u001b[0m\u001b[0mself\u001b[0m\u001b[0;34m,\u001b[0m \u001b[0;34m*\u001b[0m\u001b[0margs\u001b[0m\u001b[0;34m,\u001b[0m \u001b[0;34m**\u001b[0m\u001b[0mkwargs\u001b[0m\u001b[0;34m)\u001b[0m\u001b[0;34m:\u001b[0m\u001b[0;34m\u001b[0m\u001b[0;34m\u001b[0m\u001b[0m\n",
            "\u001b[0;32m/usr/local/lib/python3.10/dist-packages/torch/nn/modules/module.py\u001b[0m in \u001b[0;36m_call_impl\u001b[0;34m(self, *args, **kwargs)\u001b[0m\n\u001b[1;32m   1560\u001b[0m                 \u001b[0;32mor\u001b[0m \u001b[0m_global_backward_pre_hooks\u001b[0m \u001b[0;32mor\u001b[0m \u001b[0m_global_backward_hooks\u001b[0m\u001b[0;34m\u001b[0m\u001b[0;34m\u001b[0m\u001b[0m\n\u001b[1;32m   1561\u001b[0m                 or _global_forward_hooks or _global_forward_pre_hooks):\n\u001b[0;32m-> 1562\u001b[0;31m             \u001b[0;32mreturn\u001b[0m \u001b[0mforward_call\u001b[0m\u001b[0;34m(\u001b[0m\u001b[0;34m*\u001b[0m\u001b[0margs\u001b[0m\u001b[0;34m,\u001b[0m \u001b[0;34m**\u001b[0m\u001b[0mkwargs\u001b[0m\u001b[0;34m)\u001b[0m\u001b[0;34m\u001b[0m\u001b[0;34m\u001b[0m\u001b[0m\n\u001b[0m\u001b[1;32m   1563\u001b[0m \u001b[0;34m\u001b[0m\u001b[0m\n\u001b[1;32m   1564\u001b[0m         \u001b[0;32mtry\u001b[0m\u001b[0;34m:\u001b[0m\u001b[0;34m\u001b[0m\u001b[0;34m\u001b[0m\u001b[0m\n",
            "\u001b[0;32m/usr/local/lib/python3.10/dist-packages/torch/nn/modules/linear.py\u001b[0m in \u001b[0;36mforward\u001b[0;34m(self, input)\u001b[0m\n\u001b[1;32m    115\u001b[0m \u001b[0;34m\u001b[0m\u001b[0m\n\u001b[1;32m    116\u001b[0m     \u001b[0;32mdef\u001b[0m \u001b[0mforward\u001b[0m\u001b[0;34m(\u001b[0m\u001b[0mself\u001b[0m\u001b[0;34m,\u001b[0m \u001b[0minput\u001b[0m\u001b[0;34m:\u001b[0m \u001b[0mTensor\u001b[0m\u001b[0;34m)\u001b[0m \u001b[0;34m->\u001b[0m \u001b[0mTensor\u001b[0m\u001b[0;34m:\u001b[0m\u001b[0;34m\u001b[0m\u001b[0;34m\u001b[0m\u001b[0m\n\u001b[0;32m--> 117\u001b[0;31m         \u001b[0;32mreturn\u001b[0m \u001b[0mF\u001b[0m\u001b[0;34m.\u001b[0m\u001b[0mlinear\u001b[0m\u001b[0;34m(\u001b[0m\u001b[0minput\u001b[0m\u001b[0;34m,\u001b[0m \u001b[0mself\u001b[0m\u001b[0;34m.\u001b[0m\u001b[0mweight\u001b[0m\u001b[0;34m,\u001b[0m \u001b[0mself\u001b[0m\u001b[0;34m.\u001b[0m\u001b[0mbias\u001b[0m\u001b[0;34m)\u001b[0m\u001b[0;34m\u001b[0m\u001b[0;34m\u001b[0m\u001b[0m\n\u001b[0m\u001b[1;32m    118\u001b[0m \u001b[0;34m\u001b[0m\u001b[0m\n\u001b[1;32m    119\u001b[0m     \u001b[0;32mdef\u001b[0m \u001b[0mextra_repr\u001b[0m\u001b[0;34m(\u001b[0m\u001b[0mself\u001b[0m\u001b[0;34m)\u001b[0m \u001b[0;34m->\u001b[0m \u001b[0mstr\u001b[0m\u001b[0;34m:\u001b[0m\u001b[0;34m\u001b[0m\u001b[0;34m\u001b[0m\u001b[0m\n",
            "\u001b[0;31mRuntimeError\u001b[0m: mat1 and mat2 shapes cannot be multiplied (64x784 and 49x32)"
          ]
        }
      ],
      "source": [
        "num_epochs = 1000\n",
        "DEBUG = False\n",
        "ce_loss = nn.CrossEntropyLoss()\n",
        "optimizer = torch.optim.Adam(mlp.parameters(), lr =  0.01)\n",
        "\n",
        "logger = {'train':[],\n",
        "          'eval' :[]\n",
        "          }\n",
        "for epoch in range(num_epochs):\n",
        "\n",
        "    epoch_stat = []\n",
        "\n",
        "    # train part\n",
        "\n",
        "    mlp.train()\n",
        "    for batch in [train_item]:\n",
        "\n",
        "        images, labels = batch\n",
        "        images, labels = images.float(), labels.long()\n",
        "        predictions = mlp(images)\n",
        "        loss = ce_loss(predictions, labels)\n",
        "        loss.backward()\n",
        "        optimizer.step()\n",
        "\n",
        "        epoch_stat.append(loss.item())\n",
        "\n",
        "    if DEBUG: print(f\"train loss value = {np.mean(epoch_stat)}\")\n",
        "    logger['train'].append(np.mean(epoch_stat))\n",
        "\n",
        "\n",
        "    # eval part\n",
        "    with torch.no_grad():\n",
        "\n",
        "        eval_stat = []\n",
        "        for batch in [train_item]:\n",
        "\n",
        "            images, labels = batch\n",
        "            images, labels = images.float(), labels.long()\n",
        "\n",
        "            predictions = mlp(images)\n",
        "            loss = ce_loss(predictions, labels)\n",
        "            loss.backward()\n",
        "            optimizer.step()\n",
        "\n",
        "            eval_stat.append(loss.item())\n",
        "    if DEBUG: print(f\"eval loss value = {np.mean(eval_stat)}\")\n",
        "    logger['eval'].append(np.mean(eval_stat))\n",
        "\n",
        "plt.plot(logger['train'], label='Train loss' )\n",
        "plt.plot(logger['eval'], label='Val loss')\n",
        "plt.legend()\n",
        "plt.show()\n",
        "\n",
        "#Вполне понятно, что здесь реализуется обучение модели, но с ошибками.\n",
        "#Во-первых, мы используем только первый элемент из наших DataLoader'ов,\n",
        "#но полагаю, что здесь это было написано чисто для скорости. Во-вторых,\n",
        "#у images отключены градиенты, что очевидно ошибка, без градиентов МОР\n",
        "#никак не заработает. Также отсутсвует обнуление градиента на каждом шаге. Больше\n",
        "#ошибок в тренировочной части нет. Но в валидационной части они есть: сразу видно,\n",
        "#что мы снова проходимся по тренировочным данным, хотя нам требуются тестовые.\n",
        "#Также в этой части нам не нужно делать optimizer.step() и loss.backword(). То есть 4\n",
        "#ошибки"
      ]
    },
    {
      "cell_type": "code",
      "source": [
        "mlp"
      ],
      "metadata": {
        "colab": {
          "base_uri": "https://localhost:8080/"
        },
        "id": "kR5E4dNasv-e",
        "outputId": "36bbc1e6-11f0-4117-dd44-b4e03403ad60"
      },
      "execution_count": null,
      "outputs": [
        {
          "output_type": "execute_result",
          "data": {
            "text/plain": [
              "NNModel(\n",
              "  (conv): Conv2d(1, 1, kernel_size=(4, 4), stride=(4, 4))\n",
              "  (layers): ModuleList(\n",
              "    (0): Linear(in_features=49, out_features=32, bias=True)\n",
              "    (1): Linear(in_features=32, out_features=16, bias=True)\n",
              "    (2): Linear(in_features=16, out_features=10, bias=True)\n",
              "  )\n",
              "  (norm): ModuleList(\n",
              "    (0): BatchNorm1d(32, eps=1e-05, momentum=0.1, affine=False, track_running_stats=True)\n",
              "    (1): BatchNorm1d(16, eps=1e-05, momentum=0.1, affine=False, track_running_stats=True)\n",
              "  )\n",
              "  (relu): ReLU()\n",
              "  (dropout): Dropout(p=0.1, inplace=False)\n",
              ")"
            ]
          },
          "metadata": {},
          "execution_count": 69
        }
      ]
    },
    {
      "cell_type": "markdown",
      "source": [
        "# Исправленный код"
      ],
      "metadata": {
        "id": "bCPEQispr0z8"
      }
    },
    {
      "cell_type": "code",
      "source": [
        "!pip install torchviz"
      ],
      "metadata": {
        "colab": {
          "base_uri": "https://localhost:8080/"
        },
        "id": "m4OMDsfYr28O",
        "outputId": "4e74cf2b-6e3c-41e5-ed0e-eac8c9a6367d"
      },
      "execution_count": 58,
      "outputs": [
        {
          "output_type": "stream",
          "name": "stdout",
          "text": [
            "Requirement already satisfied: torchviz in /usr/local/lib/python3.10/dist-packages (0.0.2)\n",
            "Requirement already satisfied: torch in /usr/local/lib/python3.10/dist-packages (from torchviz) (2.4.1+cu121)\n",
            "Requirement already satisfied: graphviz in /usr/local/lib/python3.10/dist-packages (from torchviz) (0.20.3)\n",
            "Requirement already satisfied: filelock in /usr/local/lib/python3.10/dist-packages (from torch->torchviz) (3.16.1)\n",
            "Requirement already satisfied: typing-extensions>=4.8.0 in /usr/local/lib/python3.10/dist-packages (from torch->torchviz) (4.12.2)\n",
            "Requirement already satisfied: sympy in /usr/local/lib/python3.10/dist-packages (from torch->torchviz) (1.13.3)\n",
            "Requirement already satisfied: networkx in /usr/local/lib/python3.10/dist-packages (from torch->torchviz) (3.3)\n",
            "Requirement already satisfied: jinja2 in /usr/local/lib/python3.10/dist-packages (from torch->torchviz) (3.1.4)\n",
            "Requirement already satisfied: fsspec in /usr/local/lib/python3.10/dist-packages (from torch->torchviz) (2024.6.1)\n",
            "Requirement already satisfied: MarkupSafe>=2.0 in /usr/local/lib/python3.10/dist-packages (from jinja2->torch->torchviz) (2.1.5)\n",
            "Requirement already satisfied: mpmath<1.4,>=1.1.0 in /usr/local/lib/python3.10/dist-packages (from sympy->torch->torchviz) (1.3.0)\n"
          ]
        }
      ]
    },
    {
      "cell_type": "code",
      "source": [
        "import torch\n",
        "import torch.nn as nn\n",
        "from torch.utils.data import DataLoader, Dataset\n",
        "import torchvision\n",
        "import numpy as np\n",
        "from sklearn.model_selection import train_test_split\n",
        "import torchvision.transforms as transforms\n",
        "from tqdm import tqdm\n",
        "from torchviz import make_dot\n",
        "import matplotlib.pyplot as plt"
      ],
      "metadata": {
        "id": "CYJLpMt6r32l"
      },
      "execution_count": 59,
      "outputs": []
    },
    {
      "cell_type": "code",
      "source": [
        "transform = transforms.ToTensor()\n",
        "train_dataset = torchvision.datasets.FashionMNIST(root='./data', train=True, download=True, transform=transform)\n",
        "test_dataset = torchvision.datasets.FashionMNIST(root = \"./data\", train = False, download=True, transform=transform)"
      ],
      "metadata": {
        "id": "coHvWnGir6t1"
      },
      "execution_count": 60,
      "outputs": []
    },
    {
      "cell_type": "code",
      "source": [
        "batch_size = 64\n",
        "train_loader = DataLoader(train_dataset, batch_size=batch_size, shuffle=True)\n",
        "test_loader = DataLoader(test_dataset, batch_size=batch_size, shuffle=True)"
      ],
      "metadata": {
        "id": "MpkwBDLJr_0M"
      },
      "execution_count": 61,
      "outputs": []
    },
    {
      "cell_type": "code",
      "source": [
        "train_item = next(iter(train_loader))\n",
        "test_item = next(iter(test_loader))\n",
        "len(train_item), len(test_item), train_item[0].shape, train_item[1].shape"
      ],
      "metadata": {
        "colab": {
          "base_uri": "https://localhost:8080/"
        },
        "id": "gxVgY9ohsEG9",
        "outputId": "dd645d15-de32-460f-fabf-919cd1ce2f54"
      },
      "execution_count": 62,
      "outputs": [
        {
          "output_type": "execute_result",
          "data": {
            "text/plain": [
              "(2, 2, torch.Size([64, 1, 28, 28]), torch.Size([64]))"
            ]
          },
          "metadata": {},
          "execution_count": 62
        }
      ]
    },
    {
      "cell_type": "code",
      "source": [
        "class NNModel(nn.Module):\n",
        "    def __init__(self,\n",
        "                 layers_size = [49, 32, 16, 10],\n",
        "                 dropout_prob = 1.0\n",
        "                 ):\n",
        "        super().__init__()\n",
        "        # self.conv = nn.Conv2d(1, 1, kernel_size = 1, stride = 1)\n",
        "        self.layers = nn.ModuleList([nn.Linear(layers_size[i], layers_size[i+1]) for i in range(len(layers_size)-1)])\n",
        "        self.norm = nn.ModuleList([nn.BatchNorm1d(inp_size, affine = False) for inp_size in layers_size[1:-1]])\n",
        "        self.relu = nn.ReLU()\n",
        "        self.dropout = nn.Dropout(p=dropout_prob)\n",
        "\n",
        "    def forward(self, batch):\n",
        "        bs = batch.shape[0]\n",
        "        # batch = self.conv(batch).reshape(bs, 49)\n",
        "        batch = batch.view(bs, -1)\n",
        "\n",
        "        for i, layer in enumerate(self.layers):\n",
        "            if i < len(self.layers) -1:\n",
        "                batch = self.dropout(self.relu(self.norm[i](layer(batch))))\n",
        "            else:\n",
        "                batch = layer(batch)\n",
        "        return batch\n",
        "\n",
        "    def print_net(self):\n",
        "        # print(self.conv)\n",
        "        for i, layer in enumerate(self.layers):\n",
        "            if i < len(self.layers) - 1:\n",
        "                print(layer)\n",
        "                print(self.norm[i])\n",
        "                print(self.relu)\n",
        "                print(self.dropout)\n",
        "            else:\n",
        "                print(layer)\n",
        "\n",
        "        return"
      ],
      "metadata": {
        "id": "761eFaTTsHp7"
      },
      "execution_count": 63,
      "outputs": []
    },
    {
      "cell_type": "code",
      "source": [
        "mlp  = NNModel(dropout_prob = 0.1, layers_size = [784, 32, 16, 10])\n",
        "\n",
        "mlp.print_net()"
      ],
      "metadata": {
        "colab": {
          "base_uri": "https://localhost:8080/"
        },
        "id": "xp3lAwnEsJ1u",
        "outputId": "256e445d-7e87-4b7d-ebea-e52178c4c8d0"
      },
      "execution_count": 64,
      "outputs": [
        {
          "output_type": "stream",
          "name": "stdout",
          "text": [
            "Linear(in_features=784, out_features=32, bias=True)\n",
            "BatchNorm1d(32, eps=1e-05, momentum=0.1, affine=False, track_running_stats=True)\n",
            "ReLU()\n",
            "Dropout(p=0.1, inplace=False)\n",
            "Linear(in_features=32, out_features=16, bias=True)\n",
            "BatchNorm1d(16, eps=1e-05, momentum=0.1, affine=False, track_running_stats=True)\n",
            "ReLU()\n",
            "Dropout(p=0.1, inplace=False)\n",
            "Linear(in_features=16, out_features=10, bias=True)\n"
          ]
        }
      ]
    },
    {
      "cell_type": "code",
      "source": [
        "num_epochs = 20\n",
        "DEBUG = False\n",
        "ce_loss = nn.CrossEntropyLoss()\n",
        "optimizer = torch.optim.Adam(mlp.parameters(), lr =  0.01)\n",
        "\n",
        "logger = { 'train':[], 'eval' :[] }\n",
        "\n",
        "for epoch in range(num_epochs):\n",
        "\n",
        "    epoch_stat = []\n",
        "\n",
        "    # train part\n",
        "\n",
        "    mlp.train()\n",
        "    for batch in train_loader:\n",
        "\n",
        "        images, labels = batch\n",
        "        images, labels = images.float(), labels.long()\n",
        "        images.requires_grad = True\n",
        "\n",
        "        optimizer.zero_grad()\n",
        "\n",
        "        predictions = mlp(images)\n",
        "        loss = ce_loss(predictions, labels)\n",
        "        loss.backward()\n",
        "        optimizer.step()\n",
        "\n",
        "        epoch_stat.append(loss.item())\n",
        "\n",
        "    if DEBUG: print(f\"train loss value = {np.mean(epoch_stat)}\")\n",
        "    logger['train'].append(np.mean(epoch_stat))\n",
        "\n",
        "\n",
        "    # eval part\n",
        "    with torch.no_grad():\n",
        "\n",
        "        eval_stat = []\n",
        "        for batch in test_loader:\n",
        "\n",
        "            images, labels = batch\n",
        "            images, labels = images.float(), labels.long()\n",
        "\n",
        "            predictions = mlp(images)\n",
        "            loss = ce_loss(predictions, labels)\n",
        "\n",
        "            eval_stat.append(loss.item())\n",
        "    if DEBUG: print(f\"eval loss value = {np.mean(eval_stat)}\")\n",
        "    logger['eval'].append(np.mean(eval_stat))\n",
        "\n",
        "plt.plot(logger['train'], label='Train loss' )\n",
        "plt.plot(logger['eval'], label='Val loss')\n",
        "plt.legend()\n",
        "plt.show()"
      ],
      "metadata": {
        "colab": {
          "base_uri": "https://localhost:8080/",
          "height": 430
        },
        "id": "HfwSLxTTsPKc",
        "outputId": "c5191c4a-5140-447b-a573-51af542155e5"
      },
      "execution_count": 65,
      "outputs": [
        {
          "output_type": "display_data",
          "data": {
            "text/plain": [
              "<Figure size 640x480 with 1 Axes>"
            ],
            "image/png": "[encoded data removed]"
          },
          "metadata": {}
        }
      ]
    }
  ]
}